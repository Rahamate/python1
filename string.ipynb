{
 "cells": [
  {
   "attachments": {},
   "cell_type": "markdown",
   "metadata": {},
   "source": [
    "## Write a Python program to get a string made of the first 2 and last 2 characters of a given string. If the string length is less than 2, return the empty string instead."
   ]
  },
  {
   "cell_type": "code",
   "execution_count": 1,
   "metadata": {},
   "outputs": [
    {
     "name": "stdout",
     "output_type": "stream",
     "text": [
      "rahamate\n",
      "rate\n"
     ]
    }
   ],
   "source": [
    "string=str(input(\"Enter the string\"))\n",
    "st1=[]\n",
    "if len(string)<2:\n",
    "    print(st1)\n",
    "else:\n",
    "    print(string)\n",
    "    print(string[0:2],string[-2:],sep=\"\") "
   ]
  },
  {
   "attachments": {},
   "cell_type": "markdown",
   "metadata": {},
   "source": [
    "## Write a Python program to get a single string from two given strings, separated by a space and swap the first two characters of each string"
   ]
  },
  {
   "cell_type": "code",
   "execution_count": 2,
   "metadata": {},
   "outputs": [
    {
     "name": "stdout",
     "output_type": "stream",
     "text": [
      "omar\n",
      "mehedi\n",
      "After swapping\n",
      "mear omhedi\n"
     ]
    }
   ],
   "source": [
    "str1=str(input(\"Enter the first string:\"))\n",
    "str2=str(input(\"Enter the second string:\"))\n",
    "print(str1)\n",
    "print(str2)\n",
    "news1=str2[:2]+str1[2:]\n",
    "news2=str1[:2]+str2[2:]\n",
    "\n",
    "print(\"After swapping\")\n",
    "print(news1,news2)"
   ]
  },
  {
   "cell_type": "markdown",
   "metadata": {},
   "source": []
  }
 ],
 "metadata": {
  "kernelspec": {
   "display_name": "Python 3",
   "language": "python",
   "name": "python3"
  },
  "language_info": {
   "codemirror_mode": {
    "name": "ipython",
    "version": 3
   },
   "file_extension": ".py",
   "mimetype": "text/x-python",
   "name": "python",
   "nbconvert_exporter": "python",
   "pygments_lexer": "ipython3",
   "version": "3.10.8"
  },
  "orig_nbformat": 4
 },
 "nbformat": 4,
 "nbformat_minor": 2
}
