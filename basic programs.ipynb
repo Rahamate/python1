{
 "cells": [
  {
   "cell_type": "code",
   "execution_count": 1,
   "metadata": {},
   "outputs": [
    {
     "name": "stdout",
     "output_type": "stream",
     "text": [
      "Hello\n"
     ]
    }
   ],
   "source": [
    "\n"
   ]
  },
  {
   "attachments": {},
   "cell_type": "markdown",
   "metadata": {},
   "source": [
    "## Write a Python program to solve the equation z = |x y| * (x + y)"
   ]
  },
  {
   "cell_type": "code",
   "execution_count": 2,
   "metadata": {},
   "outputs": [
    {
     "name": "stdout",
     "output_type": "stream",
     "text": [
      "The result is: 11\n"
     ]
    }
   ],
   "source": [
    "\n",
    "x=int(input(\"Enter the first number\"))\n",
    "y=int(input(\"Enter the second number\"))\n",
    "z=abs((x+y)*(x-y))\n",
    "print(\"The result is:\",z)\n",
    "     "
   ]
  },
  {
   "attachments": {},
   "cell_type": "markdown",
   "metadata": {},
   "source": [
    "## Write a Python program to calculate the surface volume and area of a cylinder.Formula: Volume = pi * radius * radius * height Surface area of a cylinder = ((2piradius)height) + ((piradius*2)2)"
   ]
  },
  {
   "cell_type": "code",
   "execution_count": 3,
   "metadata": {},
   "outputs": [
    {
     "name": "stdout",
     "output_type": "stream",
     "text": [
      "volume is : 1205.76\n",
      "surface area is : 703.36\n"
     ]
    }
   ],
   "source": [
    "pi=3.14\n",
    "radius=int(input(\"Enter the radius:\"))\n",
    "height=int(input(\"Enter the height:\"))\n",
    "Volume = pi * radius * radius * height \n",
    "Surfacearea = ((2*pi*radius)*height) + ((pi*radius**2)*2)\n",
    "print(\"volume is :\",Volume)\n",
    "print(\"surface area is :\",Surfacearea)"
   ]
  },
  {
   "attachments": {},
   "cell_type": "markdown",
   "metadata": {},
   "source": [
    "## Write a Python program to calculate the wind chill index.The program calculates the wind chill index using the formula:13.12 + 0.6215t - 11.37v0.16 + 0.3965tv0.16where t is the temperature in degrees Celsius and v is the wind speed in kilometers per hour. The calculated wind chill index is then rounded to the nearest integer."
   ]
  },
  {
   "cell_type": "code",
   "execution_count": 5,
   "metadata": {},
   "outputs": [
    {
     "name": "stdout",
     "output_type": "stream",
     "text": [
      "The wind chill index is : 7\n"
     ]
    }
   ],
   "source": [
    "import math\n",
    "v=int(input(\"Enter the velocity:\"))\n",
    "t=int(input(\"Enter the temperature: \"))\n",
    "wci= (13.12 + 0.6215*t - 11.37*v*0.16 + 0.3965*t*v*0.16)\n",
    "print(\"The wind chill index is :\",math.floor(wci))"
   ]
  },
  {
   "cell_type": "markdown",
   "metadata": {},
   "source": []
  },
  {
   "cell_type": "code",
   "execution_count": null,
   "metadata": {},
   "outputs": [],
   "source": []
  },
  {
   "cell_type": "markdown",
   "metadata": {},
   "source": []
  }
 ],
 "metadata": {
  "kernelspec": {
   "display_name": "Python 3",
   "language": "python",
   "name": "python3"
  },
  "language_info": {
   "codemirror_mode": {
    "name": "ipython",
    "version": 3
   },
   "file_extension": ".py",
   "mimetype": "text/x-python",
   "name": "python",
   "nbconvert_exporter": "python",
   "pygments_lexer": "ipython3",
   "version": "3.10.8"
  },
  "orig_nbformat": 4
 },
 "nbformat": 4,
 "nbformat_minor": 2
}
